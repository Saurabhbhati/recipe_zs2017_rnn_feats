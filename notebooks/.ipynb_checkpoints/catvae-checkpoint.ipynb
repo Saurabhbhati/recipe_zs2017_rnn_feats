{
 "cells": [
  {
   "cell_type": "markdown",
   "metadata": {},
   "source": [
    "# Categorical Variational Autoencoder Sequence-to-Sequence Model for Speech"
   ]
  },
  {
   "cell_type": "markdown",
   "metadata": {},
   "source": [
    "Herman Kamper, Stellenbosch University, 2018."
   ]
  },
  {
   "cell_type": "markdown",
   "metadata": {},
   "source": [
    "## Preamble"
   ]
  },
  {
   "cell_type": "code",
   "execution_count": 1,
   "metadata": {},
   "outputs": [],
   "source": [
    "%matplotlib inline\n",
    "%load_ext autoreload\n",
    "%autoreload 2\n",
    "\n",
    "from __future__ import division\n",
    "from __future__ import print_function\n",
    "from os import path\n",
    "from scipy.spatial.distance import pdist\n",
    "import matplotlib.pyplot as plt\n",
    "import numpy as np\n",
    "import sys\n",
    "import tensorflow as tf"
   ]
  },
  {
   "cell_type": "code",
   "execution_count": 2,
   "metadata": {},
   "outputs": [],
   "source": [
    "sys.path.append(path.join(\"..\", \"src\"))\n",
    "\n",
    "import plotting\n",
    "import samediff\n",
    "import tflego\n",
    "import training\n",
    "\n",
    "from tflego import NP_DTYPE, TF_DTYPE, NP_ITYPE, TF_ITYPE\n",
    "\n",
    "output_dir = \"/tmp/data-kamperh/\""
   ]
  },
  {
   "cell_type": "markdown",
   "metadata": {},
   "source": [
    "## Utility functions and classes"
   ]
  },
  {
   "cell_type": "code",
   "execution_count": 3,
   "metadata": {},
   "outputs": [],
   "source": [
    "class SimpleIterator(object):\n",
    "    \n",
    "    def __init__(self, x_list, batch_size, shuffle_every_epoch=False):\n",
    "        self.x_list = x_list\n",
    "        self.batch_size = batch_size\n",
    "        self.shuffle_every_epoch = shuffle_every_epoch\n",
    "        self.n_input = self.x_list[0].shape[-1]\n",
    "        self.x_lengths = np.array([i.shape[0] for i in x_list])\n",
    "        self.n_batches = int(len(self.x_lengths)/batch_size)\n",
    "        self.indices = np.arange(len(self.x_lengths))\n",
    "        np.random.shuffle(self.indices)\n",
    "    \n",
    "    def __iter__(self):\n",
    "\n",
    "        if self.shuffle_every_epoch:\n",
    "            np.random.shuffle(self.indices)\n",
    "        \n",
    "        for i_batch in xrange(self.n_batches):\n",
    "\n",
    "            batch_indices = self.indices[\n",
    "                i_batch*self.batch_size:(i_batch + 1)*self.batch_size\n",
    "                ]\n",
    "            \n",
    "            batch_x_lengths = self.x_lengths[batch_indices]\n",
    "\n",
    "            # Pad to maximum length in batch\n",
    "            batch_x_padded = np.zeros(\n",
    "                (len(batch_indices), np.max(batch_x_lengths), self.n_input),\n",
    "                 dtype=NP_DTYPE\n",
    "                )\n",
    "            for i, length in enumerate(batch_x_lengths):\n",
    "                seq = self.x_list[batch_indices[i]]\n",
    "                batch_x_padded[i, :length, :] = seq\n",
    "\n",
    "            yield (batch_x_padded, batch_x_lengths)"
   ]
  },
  {
   "cell_type": "code",
   "execution_count": 4,
   "metadata": {},
   "outputs": [],
   "source": [
    "class SimpleBucketIterator(object):\n",
    "    \n",
    "    i_epoch = 0\n",
    "    \n",
    "    def __init__(self, x_list, batch_size, n_buckets, tau_list, shuffle_every_epoch=False):\n",
    "        self.x_list = x_list\n",
    "        self.batch_size = batch_size\n",
    "        self.tau_list = tau_list\n",
    "        self.shuffle_every_epoch = shuffle_every_epoch\n",
    "        self.n_input = self.x_list[0].shape[-1]\n",
    "        self.x_lengths = np.array([i.shape[0] for i in x_list])\n",
    "        self.n_batches = int(len(self.x_lengths)/batch_size)\n",
    "        \n",
    "        # Set up bucketing\n",
    "        self.n_buckets = n_buckets\n",
    "        sorted_indices = np.argsort([len(i) for i in x_list])\n",
    "        bucket_size = int(len(self.x_lengths)/self.n_buckets)\n",
    "        self.buckets = []\n",
    "        for i_bucket in xrange(n_buckets):\n",
    "            self.buckets.append(\n",
    "                sorted_indices[i_bucket*bucket_size:(i_bucket + 1)*bucket_size]\n",
    "                )\n",
    "        self.shuffle()\n",
    "            \n",
    "    def shuffle(self):\n",
    "        for i_bucket in xrange(self.n_buckets):\n",
    "            np.random.shuffle(self.buckets[i_bucket])\n",
    "        self.indices = np.concatenate(self.buckets)\n",
    "    \n",
    "    def __iter__(self):\n",
    "\n",
    "        if self.shuffle_every_epoch:\n",
    "            self.shuffle()\n",
    "        \n",
    "        cur_tau = tau_list[SimpleBucketIterator.i_epoch] if SimpleBucketIterator.i_epoch < len(tau_list) else tau_list[-1]\n",
    "        SimpleBucketIterator.i_epoch += 1\n",
    "        \n",
    "        for i_batch in xrange(self.n_batches):\n",
    "\n",
    "            batch_indices = self.indices[\n",
    "                i_batch*self.batch_size:(i_batch + 1)*self.batch_size\n",
    "                ]\n",
    "            \n",
    "            batch_x_lengths = self.x_lengths[batch_indices]\n",
    "\n",
    "            # Pad to maximum length in batch\n",
    "            batch_x_padded = np.zeros(\n",
    "                (len(batch_indices), np.max(batch_x_lengths), self.n_input),\n",
    "                 dtype=NP_DTYPE\n",
    "                )\n",
    "            for i, length in enumerate(batch_x_lengths):\n",
    "                seq = self.x_list[batch_indices[i]]\n",
    "                batch_x_padded[i, :length, :] = seq\n",
    "\n",
    "            yield (batch_x_padded, batch_x_lengths, cur_tau)"
   ]
  },
  {
   "cell_type": "markdown",
   "metadata": {},
   "source": [
    "## Data"
   ]
  },
  {
   "cell_type": "code",
   "execution_count": 5,
   "metadata": {},
   "outputs": [
    {
     "name": "stdout",
     "output_type": "stream",
     "text": [
      "No. items: 5106\n",
      "E.g. item shape: (51, 39)\n"
     ]
    }
   ],
   "source": [
    "# Training data\n",
    "\n",
    "# NumPy archive\n",
    "npz = np.load(\n",
    "    path.join(\"..\", \"features\", \"wordpairs\", \"devpart1\",\n",
    "    \"devpart1.samediff.mfcc.cmvn_dd.npz\")\n",
    "    )\n",
    "\n",
    "# Data and labels\n",
    "train_x = []\n",
    "train_labels = []\n",
    "train_lengths = []\n",
    "train_keys = []\n",
    "n_items = 0\n",
    "for utt_key in sorted(npz):\n",
    "    train_keys.append(utt_key)\n",
    "    train_x.append(npz[utt_key])\n",
    "    word = \"_\".join(utt_key.split(\"_\")[:-2])\n",
    "    train_labels.append(word)\n",
    "    train_lengths.append(npz[utt_key].shape[0])\n",
    "    n_items += 1\n",
    "print(\"No. items:\", n_items)\n",
    "print(\"E.g. item shape:\", train_x[0].shape)"
   ]
  },
  {
   "cell_type": "code",
   "execution_count": 6,
   "metadata": {},
   "outputs": [
    {
     "data": {
      "image/png": "[encoded data removed]",
      "text/plain": [
       "<matplotlib.figure.Figure at 0x7fbc755596d0>"
      ]
     },
     "metadata": {},
     "output_type": "display_data"
    }
   ],
   "source": [
    "plt.imshow(train_x[3277].T, origin=\"bottom\");"
   ]
  },
  {
   "cell_type": "code",
   "execution_count": 7,
   "metadata": {},
   "outputs": [
    {
     "name": "stdout",
     "output_type": "stream",
     "text": [
      "No. items: 2733\n",
      "E.g. item shape: (61, 39)\n"
     ]
    }
   ],
   "source": [
    "# Development data\n",
    "\n",
    "# NumPy archive\n",
    "npz = np.load(\n",
    "    path.join(\"..\", \"features\", \"wordpairs\", \"devpart2\",\n",
    "    \"devpart2.samediff.mfcc.cmvn_dd.npz\")\n",
    "    )\n",
    "\n",
    "# Data and labels\n",
    "val_x = []\n",
    "val_labels = []\n",
    "val_lengths = []\n",
    "val_keys = []\n",
    "n_items = 0\n",
    "for utt_key in sorted(npz):\n",
    "    val_keys.append(utt_key)\n",
    "    val_x.append(npz[utt_key])\n",
    "    word = \"_\".join(utt_key.split(\"_\")[:-2])\n",
    "    val_labels.append(word)\n",
    "    val_lengths.append(npz[utt_key].shape[0])\n",
    "    n_items += 1\n",
    "print(\"No. items:\", n_items)\n",
    "print(\"E.g. item shape:\", val_x[0].shape)"
   ]
  },
  {
   "cell_type": "code",
   "execution_count": 8,
   "metadata": {},
   "outputs": [],
   "source": [
    "# Truncate and limit dimensionality\n",
    "max_length = 100\n",
    "d_frame = 13  # None\n",
    "for i, seq in enumerate(train_x):\n",
    "    train_x[i] = train_x[i][:max_length, :d_frame]\n",
    "    train_lengths[i] = min(train_lengths[i], max_length)\n",
    "for i, seq in enumerate(val_x):\n",
    "    val_x[i] = val_x[i][:max_length, :d_frame]\n",
    "    val_lengths[i] = min(val_lengths[i], max_length)"
   ]
  },
  {
   "cell_type": "code",
   "execution_count": 9,
   "metadata": {},
   "outputs": [
    {
     "data": {
      "image/png": "[encoded data removed]",
      "text/plain": [
       "<matplotlib.figure.Figure at 0x7fbc731f3b50>"
      ]
     },
     "metadata": {},
     "output_type": "display_data"
    }
   ],
   "source": [
    "plt.imshow(train_x[3277].T, origin=\"bottom\");"
   ]
  },
  {
   "cell_type": "markdown",
   "metadata": {},
   "source": [
    "## Sequence-to-sequence model with latent CatVAE representation"
   ]
  },
  {
   "cell_type": "code",
   "execution_count": 15,
   "metadata": {},
   "outputs": [],
   "source": [
    "tf.reset_default_graph()\n",
    "\n",
    "# Training parameters\n",
    "learning_rate = 0.001\n",
    "n_epochs = 10\n",
    "batch_size = 100\n",
    "n_buckets = 3\n",
    "\n",
    "# Model parameters\n",
    "n_input = d_frame\n",
    "n_hidden = 150\n",
    "build_latent_func = tflego.build_catvae\n",
    "K = 30\n",
    "N = 4\n",
    "latent_func_kwargs = {\n",
    "    \"enc_n_hiddens\": [],\n",
    "    \"dec_n_hiddens\": [n_hidden],\n",
    "    \"activation\": tf.nn.relu,\n",
    "    \"K\": K,\n",
    "    \"N\": N,\n",
    "    }\n",
    "rnn_type = \"gru\"  # \"lstm\", \"gru\" or \"rnn\"\n",
    "model_fn = path.join(output_dir, \"encdec_lazydynamic_latent_catvae.ckpt\")\n",
    "\n",
    "# Model\n",
    "x = tf.placeholder(TF_DTYPE, [None, None, n_input])\n",
    "x_lengths = tf.placeholder(TF_ITYPE, [None])\n",
    "network_dict = tflego.build_encdec_lazydynamic_latentfunc(\n",
    "    x, x_lengths, n_hidden, build_latent_func,\n",
    "    latent_func_kwargs, rnn_type=rnn_type\n",
    "    )\n",
    "encoder_states = network_dict[\"encoder_states\"]\n",
    "catvae = network_dict[\"latent_layer\"]\n",
    "softmax_logits = catvae[\"softmax_logits\"]\n",
    "log_logits_categorical = catvae[\"log_logits_categorical\"]\n",
    "z = catvae[\"z\"]\n",
    "y = catvae[\"y\"]\n",
    "tau = catvae[\"tau\"]\n",
    "y = network_dict[\"decoder_output\"]\n",
    "mask = network_dict[\"mask\"]\n",
    "\n",
    "y *= tf.expand_dims(mask, -1)  # safety\n",
    "\n",
    "# Temperature\n",
    "tau_init = 100\n",
    "# anneal_rate = 0.03\n",
    "tau_min = 100\n",
    "tau_list = np.linspace(tau_init, tau_min, n_epochs)\n",
    "\n",
    "# Loss (KL divergence)\n",
    "kl_tmp = tf.reshape(softmax_logits*(log_logits_categorical - tf.log(1.0/K)), [-1, N, K])\n",
    "kl = tf.reduce_sum(kl_tmp, [1, 2])\n",
    "\n",
    "# CatVAE loss (Gaussian)\n",
    "sigma_sq = 0.001\n",
    "loss = 1./(2*sigma_sq)*tf.losses.mean_squared_error(x, y) + tf.reduce_mean(kl)\n",
    "reconstruction_loss = tf.losses.mean_squared_error(x, y)\n",
    "\n",
    "# # CatVAE loss (Bernoulli)\n",
    "# y = tf.nn.sigmoid(y)\n",
    "# loss = tf.reduce_mean(\n",
    "#     -tf.reduce_sum(x*tf.log(1e-10 + y) + (1 - x)*tf.log(1e-10 + 1 - y), 1)\n",
    "#     ) + tf.reduce_mean(kl)\n",
    "\n",
    "optimizer = tf.train.AdamOptimizer(learning_rate=learning_rate).minimize(loss)"
   ]
  },
  {
   "cell_type": "code",
   "execution_count": null,
   "metadata": {
    "scrolled": false
   },
   "outputs": [
    {
     "name": "stdout",
     "output_type": "stream",
     "text": [
      "2018-08-08 07:58:56.168961\n",
      "Epoch 0:\n",
      "3.502 sec, train loss: [ 483.13973999    0.96881944  100.        ], val loss: [ 453.1809082     0.90911931] *\n",
      "Epoch 1:\n",
      "3.429 sec, train loss: [ 459.1416626     0.92104834  100.        ], val loss: [ 452.38186646    0.90753144] *\n",
      "Epoch 2:\n",
      "3.434 sec, train loss: [ 458.61984253    0.92000896  100.        ], val loss: [ 452.74212646    0.90825349]\n",
      "Epoch 3:\n",
      "3.439 sec, train loss: [ 458.46347046    0.91969711  100.        ], val loss: [ 452.43774414    0.90764534]\n",
      "Epoch 4:\n",
      "3.441 sec, train loss: [ 458.68002319    0.92013055  100.        ], val loss: [ 451.90588379    0.90658188] *\n",
      "Epoch 5:\n",
      "3.437 sec, train loss: [ 458.29031372    0.91935146  100.        ], val loss: [ 452.26855469    0.90730774]\n",
      "Epoch 6:\n"
     ]
    }
   ],
   "source": [
    "np.random.seed(1)\n",
    "train_batch_iterator = SimpleBucketIterator(\n",
    "    train_x, batch_size, n_buckets, tau_list, True\n",
    "    )\n",
    "val_batch_iterator = SimpleBucketIterator(\n",
    "    val_x, batch_size, n_buckets, [tau_min], False\n",
    "    )\n",
    "\n",
    "record_dict = training.train_fixed_epochs(\n",
    "    n_epochs, optimizer, [loss, reconstruction_loss, tau], train_batch_iterator,\n",
    "    [x, x_lengths, tau], [loss, reconstruction_loss], val_batch_iterator, save_best_val_model_fn=model_fn\n",
    "    )"
   ]
  },
  {
   "cell_type": "code",
   "execution_count": 81,
   "metadata": {},
   "outputs": [
    {
     "name": "stdout",
     "output_type": "stream",
     "text": [
      "INFO:tensorflow:Restoring parameters from /tmp/data-kamperh/encdec_lazydynamic_latent_catvae.ckpt\n"
     ]
    }
   ],
   "source": [
    "# Embed validation\n",
    "tau_eval = 0.1  # tau_min\n",
    "val_batch_iterator = SimpleIterator(\n",
    "    val_x, len(val_x), False\n",
    "    )\n",
    "labels = [val_labels[i] for i in val_batch_iterator.indices]\n",
    "saver = tf.train.Saver()\n",
    "with tf.Session() as session:\n",
    "    saver.restore(session, model_fn)\n",
    "    for batch_x_padded, batch_x_lengths in val_batch_iterator:\n",
    "        np_x = batch_x_padded\n",
    "        np_x_lengths = batch_x_lengths\n",
    "        np_z = session.run(\n",
    "            [z], feed_dict={x: np_x, x_lengths: np_x_lengths, tau: tau_eval}\n",
    "            )[0]\n",
    "        np_y = session.run(\n",
    "            [y], feed_dict={x: np_x, x_lengths: np_x_lengths, tau: tau_eval}\n",
    "            )[0]\n",
    "        break  # single batch\n",
    "np_z = np_z.reshape(-1, N*K)\n",
    "\n",
    "embed_dict = {}\n",
    "for i, utt_key in enumerate([val_keys[i] for i in val_batch_iterator.indices]):\n",
    "    embed_dict[utt_key] = np_z[i]"
   ]
  },
  {
   "cell_type": "code",
   "execution_count": 82,
   "metadata": {},
   "outputs": [
    {
     "name": "stdout",
     "output_type": "stream",
     "text": [
      "Average precision: 0.0039\n",
      "Precision-recall breakeven: 0.0116\n"
     ]
    }
   ],
   "source": [
    "# Same-different evaluation\n",
    "distances = pdist(np_z, metric=\"cosine\")\n",
    "matches = samediff.generate_matches_array(labels)\n",
    "ap, prb = samediff.average_precision(\n",
    "    distances[matches == True], distances[matches == False]\n",
    "    )\n",
    "\n",
    "print(\"Average precision: {:.4f}\".format(ap))\n",
    "print(\"Precision-recall breakeven: {:.4f}\".format(prb))"
   ]
  },
  {
   "cell_type": "code",
   "execution_count": 83,
   "metadata": {},
   "outputs": [
    {
     "data": {
      "image/png": "[encoded data removed]",
      "text/plain": [
       "<matplotlib.figure.Figure at 0x7f2ed1405c10>"
      ]
     },
     "metadata": {},
     "output_type": "display_data"
    }
   ],
   "source": [
    "# Plot reconstruction\n",
    "plt.figure(figsize=(12, 8))\n",
    "for i in range(5):\n",
    "    plt.subplot(5, 2, 2*i + 1)\n",
    "    if i == 0:\n",
    "        plt.title(\"Input\")\n",
    "    plt.imshow(np_x[i][:np_x_lengths[i]].T)\n",
    "    plt.axis(\"off\")\n",
    "    plt.subplot(5, 2, 2*i + 2)\n",
    "    if i == 0:\n",
    "        plt.title(\"Reconstruction\")\n",
    "    plt.imshow(np_y[i][:np_x_lengths[i]].T)\n",
    "    plt.axis(\"off\")"
   ]
  },
  {
   "cell_type": "code",
   "execution_count": 84,
   "metadata": {},
   "outputs": [
    {
     "data": {
      "image/png": "[encoded data removed]",
      "text/plain": [
       "<matplotlib.figure.Figure at 0x7f2ed24141d0>"
      ]
     },
     "metadata": {},
     "output_type": "display_data"
    }
   ],
   "source": [
    "plotting.plot_raw_embeds(\n",
    "    embed_dict, [\"because\", \"yknow\", \"people\", \"something\", \"anything\", \"education\", \"situation\"],\n",
    "    figsize=(12, 8)\n",
    "    )"
   ]
  },
  {
   "cell_type": "code",
   "execution_count": null,
   "metadata": {},
   "outputs": [],
   "source": []
  }
 ],
 "metadata": {
  "kernelspec": {
   "display_name": "Python 2",
   "language": "python",
   "name": "python2"
  },
  "language_info": {
   "codemirror_mode": {
    "name": "ipython",
    "version": 2
   },
   "file_extension": ".py",
   "mimetype": "text/x-python",
   "name": "python",
   "nbconvert_exporter": "python",
   "pygments_lexer": "ipython2",
   "version": "2.7.12"
  }
 },
 "nbformat": 4,
 "nbformat_minor": 2
}
