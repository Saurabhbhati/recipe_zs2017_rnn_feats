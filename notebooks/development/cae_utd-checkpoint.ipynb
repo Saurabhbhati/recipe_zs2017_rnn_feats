{
 "cells": [
  {
   "cell_type": "markdown",
   "metadata": {},
   "source": [
    "# Autoencoder Sequence-to-Sequence Model for Speech"
   ]
  },
  {
   "cell_type": "markdown",
   "metadata": {},
   "source": [
    "Herman Kamper, Stellenbosch University, 2018."
   ]
  },
  {
   "cell_type": "markdown",
   "metadata": {},
   "source": [
    "## Preamble"
   ]
  },
  {
   "cell_type": "code",
   "execution_count": 73,
   "metadata": {},
   "outputs": [
    {
     "name": "stdout",
     "output_type": "stream",
     "text": [
      "The autoreload extension is already loaded. To reload it, use:\n",
      "  %reload_ext autoreload\n"
     ]
    }
   ],
   "source": [
    "%matplotlib inline\n",
    "%load_ext autoreload\n",
    "%autoreload 2\n",
    "\n",
    "from __future__ import division\n",
    "from __future__ import print_function\n",
    "from os import path\n",
    "from scipy.spatial.distance import pdist\n",
    "import matplotlib.pyplot as plt\n",
    "import numpy as np\n",
    "import sys\n",
    "import tensorflow as tf"
   ]
  },
  {
   "cell_type": "code",
   "execution_count": 74,
   "metadata": {},
   "outputs": [],
   "source": [
    "sys.path.append(path.join(\"..\", \"src\"))\n",
    "\n",
    "import plotting\n",
    "import samediff\n",
    "import tflego\n",
    "import training\n",
    "\n",
    "from tflego import NP_DTYPE, TF_DTYPE, NP_ITYPE, TF_ITYPE\n",
    "\n",
    "output_dir = \"/tmp/data-kamperh/\""
   ]
  },
  {
   "cell_type": "markdown",
   "metadata": {},
   "source": [
    "## Utility functions and classes\n"
   ]
  },
  {
   "cell_type": "code",
   "execution_count": 75,
   "metadata": {},
   "outputs": [],
   "source": [
    "class SimpleIterator(object):\n",
    "    \n",
    "    def __init__(self, x_list, batch_size, shuffle_every_epoch=False):\n",
    "        self.x_list = x_list\n",
    "        self.batch_size = batch_size\n",
    "        self.shuffle_every_epoch = shuffle_every_epoch\n",
    "        self.n_input = self.x_list[0].shape[-1]\n",
    "        self.x_lengths = np.array([i.shape[0] for i in x_list])\n",
    "        self.n_batches = int(len(self.x_lengths)/batch_size)\n",
    "        self.indices = np.arange(len(self.x_lengths))\n",
    "        np.random.shuffle(self.indices)\n",
    "    \n",
    "    def __iter__(self):\n",
    "\n",
    "        if self.shuffle_every_epoch:\n",
    "            np.random.shuffle(self.indices)\n",
    "        \n",
    "        for i_batch in xrange(self.n_batches):\n",
    "\n",
    "            batch_indices = self.indices[\n",
    "                i_batch*self.batch_size:(i_batch + 1)*self.batch_size\n",
    "                ]\n",
    "            \n",
    "            batch_x_lengths = self.x_lengths[batch_indices]\n",
    "\n",
    "            # Pad to maximum length in batch\n",
    "            batch_x_padded = np.zeros(\n",
    "                (len(batch_indices), np.max(batch_x_lengths), self.n_input),\n",
    "                 dtype=NP_DTYPE\n",
    "                )\n",
    "            for i, length in enumerate(batch_x_lengths):\n",
    "                seq = self.x_list[batch_indices[i]]\n",
    "                batch_x_padded[i, :length, :] = seq\n",
    "\n",
    "            yield (batch_x_padded, batch_x_lengths)"
   ]
  },
  {
   "cell_type": "code",
   "execution_count": 93,
   "metadata": {},
   "outputs": [],
   "source": [
    "class PairedBucketIterator(object):\n",
    "    \n",
    "    def __init__(self, x_list, pair_list, batch_size, n_buckets, shuffle_every_epoch=False):\n",
    "        self.x_list = x_list\n",
    "        self.batch_size = batch_size\n",
    "        self.shuffle_every_epoch = shuffle_every_epoch\n",
    "        self.n_input = self.x_list[0].shape[-1]\n",
    "        self.x_lengths = np.array([i.shape[0] for i in x_list])\n",
    "        self.n_batches = int(len(self.x_lengths)/batch_size)\n",
    "        \n",
    "        # Set up bucketing\n",
    "        self.n_buckets = n_buckets\n",
    "        sorted_indices = np.argsort([len(i) for i in x_list])\n",
    "        bucket_size = int(len(self.x_lengths)/self.n_buckets)\n",
    "        self.buckets = []\n",
    "        for i_bucket in xrange(n_buckets):\n",
    "            self.buckets.append(\n",
    "                sorted_indices[i_bucket*bucket_size:(i_bucket + 1)*bucket_size]\n",
    "                )\n",
    "        self.shuffle()\n",
    "            \n",
    "    def shuffle(self):\n",
    "        for i_bucket in xrange(self.n_buckets):\n",
    "            np.random.shuffle(self.buckets[i_bucket])\n",
    "        self.indices = np.concatenate(self.buckets)\n",
    "    \n",
    "    def __iter__(self):\n",
    "\n",
    "        if self.shuffle_every_epoch:\n",
    "            self.shuffle()\n",
    "        \n",
    "        for i_batch in xrange(self.n_batches):\n",
    "\n",
    "            batch_indices = self.indices[\n",
    "                i_batch*self.batch_size:(i_batch + 1)*self.batch_size\n",
    "                ]\n",
    "            \n",
    "            batch_x_lengths = self.x_lengths[batch_indices]\n",
    "\n",
    "            # Pad to maximum length in batch\n",
    "            batch_x_padded = np.zeros(\n",
    "                (len(batch_indices), np.max(batch_x_lengths), self.n_input),\n",
    "                 dtype=NP_DTYPE\n",
    "                )\n",
    "            for i, length in enumerate(batch_x_lengths):\n",
    "                seq = self.x_list[batch_indices[i]]\n",
    "                batch_x_padded[i, :length, :] = seq\n",
    "\n",
    "            yield (batch_x_padded, batch_x_lengths)"
   ]
  },
  {
   "cell_type": "code",
   "execution_count": 77,
   "metadata": {},
   "outputs": [
    {
     "name": "stdout",
     "output_type": "stream",
     "text": [
      "No. items: 12021\n",
      "E.g. item shape: (62, 39)\n"
     ]
    }
   ],
   "source": [
    "# Training data\n",
    "\n",
    "# NumPy archive\n",
    "npz = np.load(\n",
    "    path.join(\"..\", \"features\", \"wordpairs\", \"devpart1\",\n",
    "    \"devpart1_utd_terms.mfcc.cmvn_dd.npz\")\n",
    "    )\n",
    "\n",
    "# Data and labels\n",
    "train_x = []\n",
    "train_labels = []\n",
    "train_lengths = []\n",
    "train_keys = []\n",
    "n_items = 0\n",
    "for utt_key in sorted(npz):\n",
    "    train_keys.append(utt_key)\n",
    "    train_x.append(npz[utt_key])\n",
    "    word = \"_\".join(utt_key.split(\"_\")[:-2])\n",
    "    train_labels.append(word)\n",
    "    train_lengths.append(npz[utt_key].shape[0])\n",
    "    n_items += 1\n",
    "print(\"No. items:\", n_items)\n",
    "print(\"E.g. item shape:\", train_x[0].shape)"
   ]
  },
  {
   "cell_type": "code",
   "execution_count": 78,
   "metadata": {},
   "outputs": [
    {
     "data": {
      "image/png": "[encoded data removed]",
      "text/plain": [
       "<matplotlib.figure.Figure at 0x7fa35a78c190>"
      ]
     },
     "metadata": {},
     "output_type": "display_data"
    }
   ],
   "source": [
    "plt.imshow(train_x[3277].T, origin=\"bottom\");"
   ]
  },
  {
   "cell_type": "code",
   "execution_count": 79,
   "metadata": {},
   "outputs": [
    {
     "name": "stdout",
     "output_type": "stream",
     "text": [
      "No. items: 2733\n",
      "E.g. item shape: (61, 39)\n"
     ]
    }
   ],
   "source": [
    "# Development data\n",
    "\n",
    "# NumPy archive\n",
    "npz = np.load(\n",
    "    path.join(\"..\", \"features\", \"wordpairs\", \"devpart2\",\n",
    "    \"devpart2.samediff.mfcc.cmvn_dd.npz\")\n",
    "    )\n",
    "\n",
    "# Data and labels\n",
    "val_x = []\n",
    "val_labels = []\n",
    "val_lengths = []\n",
    "val_keys = []\n",
    "n_items = 0\n",
    "for utt_key in sorted(npz):\n",
    "    val_keys.append(utt_key)\n",
    "    val_x.append(npz[utt_key])\n",
    "    word = \"_\".join(utt_key.split(\"_\")[:-2])\n",
    "    val_labels.append(word)\n",
    "    val_lengths.append(npz[utt_key].shape[0])\n",
    "    n_items += 1\n",
    "print(\"No. items:\", n_items)\n",
    "print(\"E.g. item shape:\", val_x[0].shape)"
   ]
  },
  {
   "cell_type": "code",
   "execution_count": 80,
   "metadata": {},
   "outputs": [],
   "source": [
    "# Truncate and limit dimensionality\n",
    "max_length = 100\n",
    "d_frame = 13  # None\n",
    "for i, seq in enumerate(train_x):\n",
    "    train_x[i] = train_x[i][:max_length, :d_frame]\n",
    "    train_lengths[i] = min(train_lengths[i], max_length)\n",
    "for i, seq in enumerate(val_x):\n",
    "    val_x[i] = val_x[i][:max_length, :d_frame]\n",
    "    val_lengths[i] = min(val_lengths[i], max_length)"
   ]
  },
  {
   "cell_type": "code",
   "execution_count": 81,
   "metadata": {},
   "outputs": [
    {
     "data": {
      "image/png": "[encoded data removed]",
      "text/plain": [
       "<matplotlib.figure.Figure at 0x7fa35f018210>"
      ]
     },
     "metadata": {},
     "output_type": "display_data"
    }
   ],
   "source": [
    "plt.imshow(train_x[3277].T, origin=\"bottom\");"
   ]
  },
  {
   "cell_type": "code",
   "execution_count": 82,
   "metadata": {},
   "outputs": [],
   "source": [
    "# Temp"
   ]
  },
  {
   "cell_type": "code",
   "execution_count": 124,
   "metadata": {},
   "outputs": [],
   "source": [
    "def matching_indices(labels):\n",
    "    \"\"\"Return a list of tuples giving indices of matching types.\"\"\"\n",
    "    N = len(labels)\n",
    "    match_list = []\n",
    "    for n in range(N - 1):\n",
    "        cur_label = labels[n]\n",
    "        for cur_match_i in n + 1 + np.where(np.asarray(labels[n + 1:]) == cur_label)[0]:\n",
    "            match_list.append((n, cur_match_i))\n",
    "            match_list.append((cur_match_i, n))\n",
    "    return match_list"
   ]
  },
  {
   "cell_type": "code",
   "execution_count": 125,
   "metadata": {},
   "outputs": [
    {
     "name": "stdout",
     "output_type": "stream",
     "text": [
      "['PT10029', 'PT10029', 'PT1010', 'PT1010', 'PT1010', 'PT10114', 'PT1011', 'PT1011', 'PT10213', 'PT10213', 'PT10214', 'PT10214', 'PT10214', 'PT10215', 'PT10215', 'PT10216', 'PT10216', 'PT10217', 'PT10217', 'PT10217']\n"
     ]
    }
   ],
   "source": [
    "# matches = samediff.generate_matches_array(train_labels)\n",
    "labels = train_labels[:20]\n",
    "labels[4] = 'PT1010'\n",
    "labels[-1] = 'PT10217'\n",
    "print(labels)"
   ]
  },
  {
   "cell_type": "code",
   "execution_count": 126,
   "metadata": {},
   "outputs": [
    {
     "name": "stdout",
     "output_type": "stream",
     "text": [
      "[(0, 1), (1, 0), (2, 3), (3, 2), (2, 4), (4, 2), (3, 4), (4, 3), (6, 7), (7, 6), (8, 9), (9, 8), (10, 11), (11, 10), (10, 12), (12, 10), (11, 12), (12, 11), (13, 14), (14, 13), (15, 16), (16, 15), (17, 18), (18, 17), (17, 19), (19, 17), (18, 19), (19, 18)]\n"
     ]
    }
   ],
   "source": [
    "match_list = matching_indices(labels)\n",
    "print(match_list)"
   ]
  },
  {
   "cell_type": "code",
   "execution_count": 127,
   "metadata": {},
   "outputs": [],
   "source": [
    "class PairedBucketIterator(object):\n",
    "    \n",
    "    def __init__(self, x_list, pair_list, batch_size, n_buckets, shuffle_every_epoch=False):\n",
    "        self.x_list = x_list\n",
    "        self.pair_list = pair_list\n",
    "        self.batch_size = batch_size\n",
    "        self.shuffle_every_epoch = shuffle_every_epoch\n",
    "        self.n_input = self.x_list[0].shape[-1]\n",
    "        self.x_lengths = np.array([i.shape[0] for i in x_list])\n",
    "        self.n_batches = int(len(self.x_lengths)/batch_size)\n",
    "\n",
    "        # Set up bucketing\n",
    "        print(\"pair_list:\", self.pair_list)\n",
    "        self.n_buckets = n_buckets\n",
    "        sorted_indices = np.argsort([len(x_list[i]) for i, j in self.pair_list])\n",
    "        print(sorted_indices)\n",
    "        \n",
    "#         # Set up bucketing\n",
    "#         self.n_buckets = n_buckets\n",
    "#         sorted_indices = np.argsort([len(i) for i in x_list])\n",
    "#         print(sorted_indices)\n",
    "#         bucket_size = int(len(self.x_lengths)/self.n_buckets)\n",
    "#         self.buckets = []\n",
    "#         for i_bucket in xrange(n_buckets):\n",
    "#             self.buckets.append(\n",
    "#                 sorted_indices[i_bucket*bucket_size:(i_bucket + 1)*bucket_size]\n",
    "#                 )\n",
    "#         print(self.buckets)\n",
    "#         self.shuffle()\n",
    "            \n",
    "    def shuffle(self):\n",
    "        for i_bucket in xrange(self.n_buckets):\n",
    "            np.random.shuffle(self.buckets[i_bucket])\n",
    "        self.indices = np.concatenate(self.buckets)\n",
    "    \n",
    "    def __iter__(self):\n",
    "\n",
    "        if self.shuffle_every_epoch:\n",
    "            self.shuffle()\n",
    "        \n",
    "        for i_batch in xrange(self.n_batches):\n",
    "\n",
    "            batch_indices = self.indices[\n",
    "                i_batch*self.batch_size:(i_batch + 1)*self.batch_size\n",
    "                ]\n",
    "            print(batch_indices)\n",
    "            \n",
    "            batch_x_lengths = self.x_lengths[batch_indices]\n",
    "\n",
    "            # Pad to maximum length in batch\n",
    "            batch_x_padded = np.zeros(\n",
    "                (len(batch_indices), np.max(batch_x_lengths), self.n_input),\n",
    "                 dtype=NP_DTYPE\n",
    "                )\n",
    "            for i, length in enumerate(batch_x_lengths):\n",
    "                seq = self.x_list[batch_indices[i]]\n",
    "                batch_x_padded[i, :length, :] = seq\n",
    "\n",
    "            yield (batch_x_padded, batch_x_lengths)"
   ]
  },
  {
   "cell_type": "code",
   "execution_count": 132,
   "metadata": {},
   "outputs": [
    {
     "name": "stdout",
     "output_type": "stream",
     "text": [
      "pair_list: [(0, 1), (1, 0), (2, 3), (3, 2), (4, 5), (5, 4), (6, 7), (7, 6), (8, 9), (9, 8)]\n",
      "[5 1 8 0 4 2 9 3 6 7]\n"
     ]
    }
   ],
   "source": [
    "train_batch_iterator = PairedBucketIterator(\n",
    "    train_x[:10], matching_indices(train_labels[:10]), 5, 2\n",
    "    )"
   ]
  },
  {
   "cell_type": "code",
   "execution_count": 133,
   "metadata": {},
   "outputs": [
    {
     "data": {
      "text/plain": [
       "33"
      ]
     },
     "execution_count": 133,
     "metadata": {},
     "output_type": "execute_result"
    }
   ],
   "source": [
    "len(train_x[:10][1])"
   ]
  },
  {
   "cell_type": "code",
   "execution_count": 156,
   "metadata": {},
   "outputs": [],
   "source": [
    "class PairedSimpleIterator(object):\n",
    "    \n",
    "    def __init__(self, x_list, pair_list, batch_size, shuffle_every_epoch=False):\n",
    "        self.x_list = x_list\n",
    "        self.batch_size = batch_size\n",
    "        self.shuffle_every_epoch = shuffle_every_epoch\n",
    "        self.n_input = self.x_list[0].shape[-1]\n",
    "        self.x_lengths = np.array([i.shape[0] for i in x_list])\n",
    "        self.n_batches = int(len(self.x_lengths)/batch_size)\n",
    "        self.pair_list = pair_list\n",
    "#         self.indices = np.arange(len(self.pair_list))\n",
    "        np.random.shuffle(self.pair_list)\n",
    "    \n",
    "    def __iter__(self):\n",
    "\n",
    "        if self.shuffle_every_epoch:\n",
    "            np.random.shuffle(self.pair_list)\n",
    "        \n",
    "        for i_batch in xrange(self.n_batches):\n",
    "\n",
    "            batch_indices_a = [i for i, j in self.pair_list[i_batch*self.batch_size:(i_batch + 1)*self.batch_size]]\n",
    "            batch_indices_b = [j for i, j in self.pair_list[i_batch*self.batch_size:(i_batch + 1)*self.batch_size]]\n",
    "            \n",
    "            print(batch_indices_a, batch_indices_b)\n",
    "            \n",
    "            batch_lengths_a = self.x_lengths[batch_indices_a]\n",
    "            batch_lengths_b = self.x_lengths[batch_indices_b]\n",
    "            \n",
    "            n_pad = max(np.max(batch_lengths_a), np.max(batch_lengths_b))\n",
    "            \n",
    "            # Pad to maximum length in batch            \n",
    "            batch_padded_a = np.zeros((len(batch_indices_a), n_pad, self.n_input), dtype=NP_DTYPE)\n",
    "            batch_padded_b = np.zeros((len(batch_indices_b), n_pad, self.n_input), dtype=NP_DTYPE)\n",
    "            for i, length in enumerate(batch_lengths_a):\n",
    "                seq = self.x_list[batch_padded_a[i]]\n",
    "                batch_padded_a[i, :length, :] = seq\n",
    "            for i, length in enumerate(batch_lengths_b):\n",
    "                seq = self.x_list[batch_padded_b[i]]\n",
    "                batch_padded_b[i, :length, :] = seq\n",
    "            \n",
    "            yield(batch_padded_a, batch_lengths_a, batch_padded_b, )\n",
    "            \n",
    "#             batch_indices = self.indices[\n",
    "#                 i_batch*self.batch_size:(i_batch + 1)*self.batch_size\n",
    "#                 ]\n",
    "            \n",
    "#             batch_x_lengths = self.x_lengths[batch_indices]\n",
    "\n",
    "#             # Pad to maximum length in batch\n",
    "#             batch_x_padded = np.zeros(\n",
    "#                 (len(batch_indices), np.max(batch_x_lengths), self.n_input),\n",
    "#                  dtype=NP_DTYPE\n",
    "#                 )\n",
    "#             for i, length in enumerate(batch_x_lengths):\n",
    "#                 seq = self.x_list[batch_indices[i]]\n",
    "#                 batch_x_padded[i, :length, :] = seq\n",
    "\n",
    "#             yield (batch_x_padded, batch_x_lengths)"
   ]
  },
  {
   "cell_type": "code",
   "execution_count": 157,
   "metadata": {},
   "outputs": [],
   "source": [
    "train_batch_iterator = PairedSimpleIterator(\n",
    "    train_x[:10], matching_indices(train_labels[:10]), 5\n",
    "    )"
   ]
  },
  {
   "cell_type": "code",
   "execution_count": 158,
   "metadata": {},
   "outputs": [
    {
     "name": "stdout",
     "output_type": "stream",
     "text": [
      "[9, 1, 3, 6, 4] [8, 0, 2, 7, 5]\n",
      "100\n",
      "[0, 8, 2, 5, 7] [1, 9, 3, 4, 6]\n",
      "100\n"
     ]
    },
    {
     "ename": "TypeError",
     "evalue": "iter() returned non-iterator of type 'NoneType'",
     "output_type": "error",
     "traceback": [
      "\u001b[0;31m---------------------------------------------------------------------------\u001b[0m",
      "\u001b[0;31mTypeError\u001b[0m                                 Traceback (most recent call last)",
      "\u001b[0;32m<ipython-input-158-86e738a6774e>\u001b[0m in \u001b[0;36m<module>\u001b[0;34m()\u001b[0m\n\u001b[0;32m----> 1\u001b[0;31m \u001b[0;32mfor\u001b[0m \u001b[0mfeed\u001b[0m \u001b[0;32min\u001b[0m \u001b[0mtrain_batch_iterator\u001b[0m\u001b[0;34m:\u001b[0m\u001b[0;34m\u001b[0m\u001b[0m\n\u001b[0m\u001b[1;32m      2\u001b[0m     \u001b[0;32mprint\u001b[0m\u001b[0;34m(\u001b[0m\u001b[0mfeed\u001b[0m\u001b[0;34m[\u001b[0m\u001b[0;36m0\u001b[0m\u001b[0;34m]\u001b[0m\u001b[0;34m.\u001b[0m\u001b[0mshape\u001b[0m\u001b[0;34m)\u001b[0m\u001b[0;34m\u001b[0m\u001b[0m\n",
      "\u001b[0;31mTypeError\u001b[0m: iter() returned non-iterator of type 'NoneType'"
     ]
    }
   ],
   "source": [
    "for feed in train_batch_iterator:\n",
    "    print(feed[0].shape)"
   ]
  },
  {
   "cell_type": "markdown",
   "metadata": {},
   "source": [
    "## Multi-layer sequence-to-sequence model with latent AE representation"
   ]
  },
  {
   "cell_type": "code",
   "execution_count": 11,
   "metadata": {},
   "outputs": [],
   "source": [
    "tf.reset_default_graph()\n",
    "\n",
    "# Training parameters\n",
    "learning_rate = 0.001\n",
    "n_epochs = 100  # 100\n",
    "n_val_interval = 1\n",
    "batch_size = 300\n",
    "n_buckets = 3\n",
    "\n",
    "# Model parameters\n",
    "n_input = d_frame\n",
    "enc_n_hiddens = [400, 400, 400] # 150\n",
    "dec_n_hiddens = [400, 400, 400]\n",
    "build_latent_func = tflego.build_autoencoder\n",
    "latent_func_kwargs = {\n",
    "    \"enc_n_hiddens\": [],\n",
    "    \"n_z\": 130, # 130,\n",
    "    \"dec_n_hiddens\": [dec_n_hiddens[0]],\n",
    "    \"activation\": tf.nn.relu\n",
    "    }\n",
    "rnn_type = \"gru\"  # \"lstm\", \"gru\" or \"rnn\"\n",
    "intermediate_model_fn = path.join(output_dir, \"multi_lazydynamic_latent_ae.tmp.ckpt\")\n",
    "model_fn = path.join(output_dir, \"multi_lazydynamic_latent_ae.ckpt\")\n",
    "\n",
    "# Model\n",
    "x = tf.placeholder(TF_DTYPE, [None, None, n_input])\n",
    "x_lengths = tf.placeholder(TF_ITYPE, [None])\n",
    "network_dict = tflego.build_multi_encdec_lazydynamic_latentfunc(\n",
    "    x, x_lengths, enc_n_hiddens, dec_n_hiddens, build_latent_func,\n",
    "    latent_func_kwargs, rnn_type=rnn_type\n",
    "    )\n",
    "encoder_states = network_dict[\"encoder_states\"]\n",
    "ae = network_dict[\"latent_layer\"]\n",
    "z = ae[\"z\"]\n",
    "y = network_dict[\"decoder_output\"]\n",
    "mask = network_dict[\"mask\"]\n",
    "\n",
    "y *= tf.expand_dims(mask, -1)  # safety\n",
    "\n",
    "# Reconstruction loss\n",
    "loss = tf.reduce_mean(\n",
    "    tf.reduce_sum(tf.reduce_mean(tf.square(x - y), -1), -1) /\n",
    "    tf.reduce_sum(mask, 1)\n",
    "    )  # https://danijar.com/variable-sequence-lengths-in-tensorflow/\n",
    "\n",
    "optimizer = tf.train.AdamOptimizer(learning_rate=learning_rate).minimize(loss)"
   ]
  },
  {
   "cell_type": "code",
   "execution_count": 12,
   "metadata": {},
   "outputs": [],
   "source": [
    "def samediff_val():\n",
    "    # Embed validation\n",
    "    np.random.seed(1)\n",
    "    val_batch_iterator = SimpleIterator(\n",
    "        val_x, len(val_x), False\n",
    "        )\n",
    "    labels = [val_labels[i] for i in val_batch_iterator.indices]\n",
    "    saver = tf.train.Saver()\n",
    "    with tf.Session() as session:\n",
    "        saver.restore(session, intermediate_model_fn)\n",
    "        for batch_x_padded, batch_x_lengths in val_batch_iterator:\n",
    "            np_x = batch_x_padded\n",
    "            np_x_lengths = batch_x_lengths\n",
    "            np_z = session.run(\n",
    "                [z], feed_dict={x: np_x, x_lengths: np_x_lengths}\n",
    "                )[0]\n",
    "            np_y = session.run(\n",
    "                [y], feed_dict={x: np_x, x_lengths: np_x_lengths}\n",
    "                )[0]\n",
    "            break  # single batch\n",
    "\n",
    "    embed_dict = {}\n",
    "    for i, utt_key in enumerate([val_keys[i] for i in val_batch_iterator.indices]):\n",
    "        embed_dict[utt_key] = np_z[i]\n",
    "\n",
    "#     np_z_normalised = (np_z - np_z.mean(axis=0))/np_z.std(axis=0)\n",
    "#     distances = pdist(np_z_normalised, metric=\"cosine\")\n",
    "#     matches = samediff.generate_matches_array(labels)\n",
    "#     ap, prb = samediff.average_precision(\n",
    "#         distances[matches == True], distances[matches == False]\n",
    "#         )\n",
    "        \n",
    "    # Same-different\n",
    "    distances = pdist(np_z, metric=\"cosine\")\n",
    "    matches = samediff.generate_matches_array(labels)\n",
    "    ap, prb = samediff.average_precision(\n",
    "        distances[matches == True], distances[matches == False]\n",
    "        )    \n",
    "    return [prb, -ap]"
   ]
  },
  {
   "cell_type": "code",
   "execution_count": 13,
   "metadata": {},
   "outputs": [
    {
     "name": "stdout",
     "output_type": "stream",
     "text": [
      "2018-08-21 10:23:56.440454\n",
      "Epoch 0:\n",
      "INFO:tensorflow:Restoring parameters from /tmp/data-kamperh/multi_lazydynamic_latent_ae.tmp.ckpt\n",
      "15.689 sec, train loss: 1.05089, val loss: [0.032723524864725587, -0.0096773377959088955] *\n",
      "Epoch 1:\n",
      "INFO:tensorflow:Restoring parameters from /tmp/data-kamperh/multi_lazydynamic_latent_ae.tmp.ckpt\n",
      "14.737 sec, train loss: 0.829996, val loss: [0.044345248841683865, -0.014760114831417983] *\n",
      "Epoch 2:\n",
      "INFO:tensorflow:Restoring parameters from /tmp/data-kamperh/multi_lazydynamic_latent_ae.tmp.ckpt\n",
      "14.667 sec, train loss: 0.787048, val loss: [0.082710641587219788, -0.03228876310930516] *\n",
      "Epoch 3:\n",
      "INFO:tensorflow:Restoring parameters from /tmp/data-kamperh/multi_lazydynamic_latent_ae.tmp.ckpt\n",
      "14.739 sec, train loss: 0.744335, val loss: [0.11131151765009019, -0.053301474472852738] *\n",
      "Epoch 4:\n",
      "INFO:tensorflow:Restoring parameters from /tmp/data-kamperh/multi_lazydynamic_latent_ae.tmp.ckpt\n",
      "14.777 sec, train loss: 0.719647, val loss: [0.12161813965472816, -0.06183150750006406] *\n",
      "Epoch 5:\n",
      "INFO:tensorflow:Restoring parameters from /tmp/data-kamperh/multi_lazydynamic_latent_ae.tmp.ckpt\n",
      "14.948 sec, train loss: 0.690808, val loss: [0.13578974491110538, -0.077369608943656562] *\n",
      "Epoch 6:\n",
      "INFO:tensorflow:Restoring parameters from /tmp/data-kamperh/multi_lazydynamic_latent_ae.tmp.ckpt\n",
      "15.034 sec, train loss: 0.655457, val loss: [0.16026797217212058, -0.098946479693936523] *\n",
      "Epoch 7:\n",
      "INFO:tensorflow:Restoring parameters from /tmp/data-kamperh/multi_lazydynamic_latent_ae.tmp.ckpt\n",
      "15.034 sec, train loss: 0.623417, val loss: [0.17553312032716986, -0.11647066447672708] *\n",
      "Epoch 8:\n",
      "INFO:tensorflow:Restoring parameters from /tmp/data-kamperh/multi_lazydynamic_latent_ae.tmp.ckpt\n",
      "14.923 sec, train loss: 0.592993, val loss: [0.18912651378510692, -0.13288765491763346] *\n",
      "Epoch 9:\n",
      "INFO:tensorflow:Restoring parameters from /tmp/data-kamperh/multi_lazydynamic_latent_ae.tmp.ckpt\n",
      "15.022 sec, train loss: 0.562432, val loss: [0.19479515588765783, -0.13794655327514982] *\n",
      "Epoch 10:\n",
      "INFO:tensorflow:Restoring parameters from /tmp/data-kamperh/multi_lazydynamic_latent_ae.tmp.ckpt\n",
      "15.011 sec, train loss: 0.533463, val loss: [0.2004121719799099, -0.14733778893142457] *\n",
      "Epoch 11:\n",
      "INFO:tensorflow:Restoring parameters from /tmp/data-kamperh/multi_lazydynamic_latent_ae.tmp.ckpt\n",
      "15.221 sec, train loss: 0.50592, val loss: [0.21515073434681783, -0.15813589802853148] *\n",
      "Epoch 12:\n",
      "INFO:tensorflow:Restoring parameters from /tmp/data-kamperh/multi_lazydynamic_latent_ae.tmp.ckpt\n",
      "15.301 sec, train loss: 0.488468, val loss: [0.22623035300180366, -0.17190542997083211] *\n",
      "Epoch 13:\n",
      "INFO:tensorflow:Restoring parameters from /tmp/data-kamperh/multi_lazydynamic_latent_ae.tmp.ckpt\n",
      "15.336 sec, train loss: 0.469353, val loss: [0.23215666065447049, -0.1742720160588638] *\n",
      "Epoch 14:\n",
      "INFO:tensorflow:Restoring parameters from /tmp/data-kamperh/multi_lazydynamic_latent_ae.tmp.ckpt\n",
      "15.332 sec, train loss: 0.445761, val loss: [0.23988662715794898, -0.18334401282936857] *\n",
      "Epoch 15:\n",
      "INFO:tensorflow:Restoring parameters from /tmp/data-kamperh/multi_lazydynamic_latent_ae.tmp.ckpt\n",
      "15.428 sec, train loss: 0.433081, val loss: [0.25199690801339863, -0.19244455881777953] *\n",
      "Epoch 16:\n",
      "INFO:tensorflow:Restoring parameters from /tmp/data-kamperh/multi_lazydynamic_latent_ae.tmp.ckpt\n",
      "15.223 sec, train loss: 0.424284, val loss: [0.25998454006699306, -0.20054036952420232] *\n",
      "Epoch 17:\n",
      "INFO:tensorflow:Restoring parameters from /tmp/data-kamperh/multi_lazydynamic_latent_ae.tmp.ckpt\n",
      "15.301 sec, train loss: 0.402635, val loss: [0.25818088121618138, -0.19831709663922253]\n",
      "Epoch 18:\n",
      "INFO:tensorflow:Restoring parameters from /tmp/data-kamperh/multi_lazydynamic_latent_ae.tmp.ckpt\n",
      "15.691 sec, train loss: 0.390299, val loss: [0.26103743652467493, -0.20148526636657393] *\n",
      "Epoch 19:\n",
      "INFO:tensorflow:Restoring parameters from /tmp/data-kamperh/multi_lazydynamic_latent_ae.tmp.ckpt\n",
      "15.591 sec, train loss: 0.391005, val loss: [0.25892052471379012, -0.20040135532774964]\n",
      "Epoch 20:\n",
      "INFO:tensorflow:Restoring parameters from /tmp/data-kamperh/multi_lazydynamic_latent_ae.tmp.ckpt\n",
      "15.510 sec, train loss: 0.37226, val loss: [0.25892052471379012, -0.20167323978374233] *\n",
      "Epoch 21:\n",
      "INFO:tensorflow:Restoring parameters from /tmp/data-kamperh/multi_lazydynamic_latent_ae.tmp.ckpt\n",
      "15.412 sec, train loss: 0.363579, val loss: [0.26387635795184816, -0.20482350566527907] *\n",
      "Epoch 22:\n",
      "INFO:tensorflow:Restoring parameters from /tmp/data-kamperh/multi_lazydynamic_latent_ae.tmp.ckpt\n",
      "15.499 sec, train loss: 0.359033, val loss: [0.26668384437000775, -0.21029565272696227] *\n",
      "Epoch 23:\n",
      "INFO:tensorflow:Restoring parameters from /tmp/data-kamperh/multi_lazydynamic_latent_ae.tmp.ckpt\n",
      "15.481 sec, train loss: 0.345602, val loss: [0.26693278842209534, -0.20870559273656669]\n",
      "Epoch 24:\n",
      "INFO:tensorflow:Restoring parameters from /tmp/data-kamperh/multi_lazydynamic_latent_ae.tmp.ckpt\n",
      "15.939 sec, train loss: 0.343854, val loss: [0.26951816542128315, -0.21484386671989977] *\n",
      "Epoch 25:\n",
      "INFO:tensorflow:Restoring parameters from /tmp/data-kamperh/multi_lazydynamic_latent_ae.tmp.ckpt\n",
      "15.830 sec, train loss: 0.335971, val loss: [0.27080649317186289, -0.21346647447071437]\n",
      "Epoch 26:\n",
      "INFO:tensorflow:Restoring parameters from /tmp/data-kamperh/multi_lazydynamic_latent_ae.tmp.ckpt\n",
      "15.734 sec, train loss: 0.338822, val loss: [0.27750579747487764, -0.21918855925793629] *\n",
      "Epoch 27:\n",
      "INFO:tensorflow:Restoring parameters from /tmp/data-kamperh/multi_lazydynamic_latent_ae.tmp.ckpt\n",
      "15.633 sec, train loss: 0.328276, val loss: [0.27492914197371809, -0.21824638134056432]\n",
      "Epoch 28:\n",
      "INFO:tensorflow:Restoring parameters from /tmp/data-kamperh/multi_lazydynamic_latent_ae.tmp.ckpt\n",
      "16.105 sec, train loss: 0.318403, val loss: [0.27157948982221075, -0.22017497440886019] *\n",
      "Epoch 29:\n",
      "INFO:tensorflow:Restoring parameters from /tmp/data-kamperh/multi_lazydynamic_latent_ae.tmp.ckpt\n",
      "15.955 sec, train loss: 0.312483, val loss: [0.27570213862406595, -0.22505774572686088] *\n",
      "Epoch 30:\n",
      "INFO:tensorflow:Restoring parameters from /tmp/data-kamperh/multi_lazydynamic_latent_ae.tmp.ckpt\n",
      "15.962 sec, train loss: 0.315832, val loss: [0.27595980417418192, -0.22618648499813507] *\n",
      "Epoch 31:\n",
      "INFO:tensorflow:Restoring parameters from /tmp/data-kamperh/multi_lazydynamic_latent_ae.tmp.ckpt\n",
      "16.012 sec, train loss: 0.309385, val loss: [0.27441381087348621, -0.22358670826555505]\n",
      "Epoch 32:\n",
      "INFO:tensorflow:Restoring parameters from /tmp/data-kamperh/multi_lazydynamic_latent_ae.tmp.ckpt\n",
      "15.980 sec, train loss: 0.293846, val loss: [0.27492914197371809, -0.22276833600975804]\n",
      "Epoch 33:\n",
      "INFO:tensorflow:Restoring parameters from /tmp/data-kamperh/multi_lazydynamic_latent_ae.tmp.ckpt\n",
      "16.286 sec, train loss: 0.293173, val loss: [0.27389847977325432, -0.22485914811595617]\n",
      "Epoch 34:\n",
      "INFO:tensorflow:Restoring parameters from /tmp/data-kamperh/multi_lazydynamic_latent_ae.tmp.ckpt\n",
      "16.055 sec, train loss: 0.289344, val loss: [0.27956712187580518, -0.22864093391703819] *\n",
      "Epoch 35:\n",
      "INFO:tensorflow:Restoring parameters from /tmp/data-kamperh/multi_lazydynamic_latent_ae.tmp.ckpt\n",
      "15.898 sec, train loss: 0.298927, val loss: [0.27673280082452978, -0.22740958366963321]\n",
      "Epoch 36:\n",
      "INFO:tensorflow:Restoring parameters from /tmp/data-kamperh/multi_lazydynamic_latent_ae.tmp.ckpt\n",
      "16.432 sec, train loss: 0.290677, val loss: [0.27518680752383406, -0.22308577337631563]\n",
      "Epoch 37:\n",
      "INFO:tensorflow:Restoring parameters from /tmp/data-kamperh/multi_lazydynamic_latent_ae.tmp.ckpt\n",
      "16.451 sec, train loss: 0.283815, val loss: [0.27621746972429784, -0.22468416750981815]\n",
      "Epoch 38:\n",
      "INFO:tensorflow:Restoring parameters from /tmp/data-kamperh/multi_lazydynamic_latent_ae.tmp.ckpt\n",
      "16.233 sec, train loss: 0.278932, val loss: [0.27776346302499355, -0.22751501100729213]\n",
      "Epoch 39:\n",
      "INFO:tensorflow:Restoring parameters from /tmp/data-kamperh/multi_lazydynamic_latent_ae.tmp.ckpt\n",
      "16.607 sec, train loss: 0.280688, val loss: [0.28265910847719661, -0.23299874994459127] *\n",
      "Epoch 40:\n",
      "INFO:tensorflow:Restoring parameters from /tmp/data-kamperh/multi_lazydynamic_latent_ae.tmp.ckpt\n",
      "16.393 sec, train loss: 0.280112, val loss: [0.27956712187580518, -0.22955913686024651]\n",
      "Epoch 41:\n",
      "INFO:tensorflow:Restoring parameters from /tmp/data-kamperh/multi_lazydynamic_latent_ae.tmp.ckpt\n",
      "16.375 sec, train loss: 0.262861, val loss: [0.27879412522545738, -0.23056568388302887]\n"
     ]
    },
    {
     "name": "stdout",
     "output_type": "stream",
     "text": [
      "Epoch 42:\n",
      "INFO:tensorflow:Restoring parameters from /tmp/data-kamperh/multi_lazydynamic_latent_ae.tmp.ckpt\n",
      "16.694 sec, train loss: 0.265706, val loss: [0.28374547766435165, -0.23638797116812812] *\n",
      "Epoch 43:\n",
      "INFO:tensorflow:Restoring parameters from /tmp/data-kamperh/multi_lazydynamic_latent_ae.tmp.ckpt\n",
      "16.446 sec, train loss: 0.27197, val loss: [0.27956712187580518, -0.22790623505622931]\n",
      "Epoch 44:\n",
      "INFO:tensorflow:Restoring parameters from /tmp/data-kamperh/multi_lazydynamic_latent_ae.tmp.ckpt\n",
      "16.445 sec, train loss: 0.257102, val loss: [0.28343210512754446, -0.23684608182897027] *\n",
      "Epoch 45:\n",
      "INFO:tensorflow:Restoring parameters from /tmp/data-kamperh/multi_lazydynamic_latent_ae.tmp.ckpt\n",
      "16.221 sec, train loss: 0.254777, val loss: [0.27905179077557329, -0.23285133462998073]\n",
      "Epoch 46:\n",
      "INFO:tensorflow:Restoring parameters from /tmp/data-kamperh/multi_lazydynamic_latent_ae.tmp.ckpt\n",
      "16.826 sec, train loss: 0.254468, val loss: [0.27694886791632362, -0.22949024692808595]\n",
      "Epoch 47:\n",
      "INFO:tensorflow:Restoring parameters from /tmp/data-kamperh/multi_lazydynamic_latent_ae.tmp.ckpt\n",
      "16.883 sec, train loss: 0.252904, val loss: [0.27907275429612854, -0.23198655194258391]\n",
      "Epoch 48:\n",
      "INFO:tensorflow:Restoring parameters from /tmp/data-kamperh/multi_lazydynamic_latent_ae.tmp.ckpt\n",
      "16.581 sec, train loss: 0.250913, val loss: [0.28446276732800824, -0.23668847772430943]\n",
      "Epoch 49:\n",
      "INFO:tensorflow:Restoring parameters from /tmp/data-kamperh/multi_lazydynamic_latent_ae.tmp.ckpt\n",
      "17.011 sec, train loss: 0.24541, val loss: [0.28091188654381316, -0.23486142317335856]\n",
      "Epoch 50:\n",
      "INFO:tensorflow:Restoring parameters from /tmp/data-kamperh/multi_lazydynamic_latent_ae.tmp.ckpt\n",
      "16.673 sec, train loss: 0.245762, val loss: [0.28111311517650089, -0.2327544402706721]\n",
      "Epoch 51:\n",
      "INFO:tensorflow:Restoring parameters from /tmp/data-kamperh/multi_lazydynamic_latent_ae.tmp.ckpt\n",
      "17.098 sec, train loss: 0.24174, val loss: [0.28034011852615304, -0.23518111312630394]\n",
      "Epoch 52:\n",
      "INFO:tensorflow:Restoring parameters from /tmp/data-kamperh/multi_lazydynamic_latent_ae.tmp.ckpt\n",
      "16.730 sec, train loss: 0.244976, val loss: [0.28143089164865548, -0.23484746075704557]\n",
      "Epoch 53:\n",
      "INFO:tensorflow:Restoring parameters from /tmp/data-kamperh/multi_lazydynamic_latent_ae.tmp.ckpt\n",
      "17.207 sec, train loss: 0.236115, val loss: [0.28347260109998179, -0.23720990519445698] *\n",
      "Epoch 54:\n",
      "INFO:tensorflow:Restoring parameters from /tmp/data-kamperh/multi_lazydynamic_latent_ae.tmp.ckpt\n",
      "16.868 sec, train loss: 0.233657, val loss: [0.28293624489213209, -0.23559325637264733]\n",
      "Epoch 55:\n",
      "INFO:tensorflow:Restoring parameters from /tmp/data-kamperh/multi_lazydynamic_latent_ae.tmp.ckpt\n",
      "17.297 sec, train loss: 0.233653, val loss: [0.28418749297388823, -0.24160299226234347] *\n",
      "Epoch 56:\n",
      "INFO:tensorflow:Restoring parameters from /tmp/data-kamperh/multi_lazydynamic_latent_ae.tmp.ckpt\n",
      "16.949 sec, train loss: 0.237617, val loss: [0.28059778407626901, -0.23219235932671758]\n",
      "Epoch 57:\n",
      "INFO:tensorflow:Restoring parameters from /tmp/data-kamperh/multi_lazydynamic_latent_ae.tmp.ckpt\n",
      "16.986 sec, train loss: 0.236673, val loss: [0.28420510177789232, -0.23852759422053535]\n",
      "Epoch 58:\n",
      "INFO:tensorflow:Restoring parameters from /tmp/data-kamperh/multi_lazydynamic_latent_ae.tmp.ckpt\n",
      "17.404 sec, train loss: 0.238049, val loss: [0.27853645967534141, -0.231741734845064]\n",
      "Epoch 59:\n",
      "INFO:tensorflow:Restoring parameters from /tmp/data-kamperh/multi_lazydynamic_latent_ae.tmp.ckpt\n",
      "17.030 sec, train loss: 0.232977, val loss: [0.28394743622777635, -0.23800677576880233]\n",
      "Epoch 60:\n",
      "INFO:tensorflow:Restoring parameters from /tmp/data-kamperh/multi_lazydynamic_latent_ae.tmp.ckpt\n",
      "17.494 sec, train loss: 0.243658, val loss: [0.27879412522545738, -0.23359419395245162]\n",
      "Epoch 61:\n",
      "INFO:tensorflow:Restoring parameters from /tmp/data-kamperh/multi_lazydynamic_latent_ae.tmp.ckpt\n",
      "17.488 sec, train loss: 0.225953, val loss: [0.28059778407626901, -0.23369902353162597]\n",
      "Epoch 62:\n",
      "INFO:tensorflow:Restoring parameters from /tmp/data-kamperh/multi_lazydynamic_latent_ae.tmp.ckpt\n",
      "17.160 sec, train loss: 0.223984, val loss: [0.28137078072661686, -0.23679634897479887]\n",
      "Epoch 63:\n",
      "INFO:tensorflow:Restoring parameters from /tmp/data-kamperh/multi_lazydynamic_latent_ae.tmp.ckpt\n",
      "17.658 sec, train loss: 0.239778, val loss: [0.28111311517650089, -0.23402867812879644]\n",
      "Epoch 64:\n",
      "INFO:tensorflow:Restoring parameters from /tmp/data-kamperh/multi_lazydynamic_latent_ae.tmp.ckpt\n",
      "17.235 sec, train loss: 0.222826, val loss: [0.28343210512754446, -0.23745696061473393]\n",
      "Epoch 65:\n",
      "INFO:tensorflow:Restoring parameters from /tmp/data-kamperh/multi_lazydynamic_latent_ae.tmp.ckpt\n",
      "17.722 sec, train loss: 0.214781, val loss: [0.28317443957742849, -0.23579142179999057]\n",
      "Epoch 66:\n",
      "INFO:tensorflow:Restoring parameters from /tmp/data-kamperh/multi_lazydynamic_latent_ae.tmp.ckpt\n",
      "17.271 sec, train loss: 0.215641, val loss: [0.28575109507858798, -0.2416602787977532] *\n",
      "Epoch 67:\n",
      "INFO:tensorflow:Restoring parameters from /tmp/data-kamperh/multi_lazydynamic_latent_ae.tmp.ckpt\n",
      "17.365 sec, train loss: 0.222227, val loss: [0.28341697753807849, -0.23573274586103513]\n",
      "Epoch 68:\n",
      "INFO:tensorflow:Restoring parameters from /tmp/data-kamperh/multi_lazydynamic_latent_ae.tmp.ckpt\n",
      "17.362 sec, train loss: 0.216278, val loss: [0.28059778407626901, -0.23575158193701612]\n",
      "Epoch 69:\n",
      "INFO:tensorflow:Restoring parameters from /tmp/data-kamperh/multi_lazydynamic_latent_ae.tmp.ckpt\n",
      "17.916 sec, train loss: 0.213898, val loss: [0.28472043287812421, -0.23955273603642813]\n",
      "Epoch 70:\n",
      "INFO:tensorflow:Restoring parameters from /tmp/data-kamperh/multi_lazydynamic_latent_ae.tmp.ckpt\n",
      "17.414 sec, train loss: 0.209363, val loss: [0.28781241947951558, -0.24264772018206415] *\n",
      "Epoch 71:\n",
      "INFO:tensorflow:Restoring parameters from /tmp/data-kamperh/multi_lazydynamic_latent_ae.tmp.ckpt\n",
      "17.166 sec, train loss: 0.215487, val loss: [0.28394743622777635, -0.23532911748967644]\n",
      "Epoch 72:\n",
      "INFO:tensorflow:Restoring parameters from /tmp/data-kamperh/multi_lazydynamic_latent_ae.tmp.ckpt\n",
      "18.041 sec, train loss: 0.209844, val loss: [0.28420510177789232, -0.23839066025101127]\n",
      "Epoch 73:\n",
      "INFO:tensorflow:Restoring parameters from /tmp/data-kamperh/multi_lazydynamic_latent_ae.tmp.ckpt\n",
      "18.057 sec, train loss: 0.212902, val loss: [0.28368977067766038, -0.23894738428348325]\n",
      "Epoch 74:\n",
      "INFO:tensorflow:Restoring parameters from /tmp/data-kamperh/multi_lazydynamic_latent_ae.tmp.ckpt\n",
      "17.603 sec, train loss: 0.2253, val loss: [0.28497809842824012, -0.24025213609773044]\n",
      "Epoch 75:\n",
      "INFO:tensorflow:Restoring parameters from /tmp/data-kamperh/multi_lazydynamic_latent_ae.tmp.ckpt\n",
      "18.201 sec, train loss: 0.208864, val loss: [0.28348787847157547, -0.23642646714430571]\n",
      "Epoch 76:\n",
      "INFO:tensorflow:Restoring parameters from /tmp/data-kamperh/multi_lazydynamic_latent_ae.tmp.ckpt\n",
      "17.695 sec, train loss: 0.213262, val loss: [0.28523576397835609, -0.23961719233886414]\n",
      "Epoch 77:\n",
      "INFO:tensorflow:Restoring parameters from /tmp/data-kamperh/multi_lazydynamic_latent_ae.tmp.ckpt\n",
      "18.228 sec, train loss: 0.207407, val loss: [0.28600876062870395, -0.23986878803391243]\n",
      "Epoch 78:\n",
      "INFO:tensorflow:Restoring parameters from /tmp/data-kamperh/multi_lazydynamic_latent_ae.tmp.ckpt\n",
      "18.227 sec, train loss: 0.200298, val loss: [0.28472043287812421, -0.2377163288944828]\n",
      "Epoch 79:\n",
      "INFO:tensorflow:Restoring parameters from /tmp/data-kamperh/multi_lazydynamic_latent_ae.tmp.ckpt\n",
      "17.850 sec, train loss: 0.197635, val loss: [0.28368977067766038, -0.23554068313353332]\n",
      "Epoch 80:\n",
      "INFO:tensorflow:Restoring parameters from /tmp/data-kamperh/multi_lazydynamic_latent_ae.tmp.ckpt\n",
      "18.427 sec, train loss: 0.202222, val loss: [0.28315736135885583, -0.23768763865934897]\n",
      "Epoch 81:\n",
      "INFO:tensorflow:Restoring parameters from /tmp/data-kamperh/multi_lazydynamic_latent_ae.tmp.ckpt\n",
      "17.916 sec, train loss: 0.20703, val loss: [0.28755475392939966, -0.24139939749165534]\n",
      "Epoch 82:\n",
      "INFO:tensorflow:Restoring parameters from /tmp/data-kamperh/multi_lazydynamic_latent_ae.tmp.ckpt\n",
      "18.505 sec, train loss: 0.199783, val loss: [0.28286343076043963, -0.23718474748695512]\n",
      "Epoch 83:\n",
      "INFO:tensorflow:Restoring parameters from /tmp/data-kamperh/multi_lazydynamic_latent_ae.tmp.ckpt\n",
      "18.457 sec, train loss: 0.203243, val loss: [0.2821832856527221, -0.2357887104840081]\n",
      "Epoch 84:\n"
     ]
    },
    {
     "name": "stdout",
     "output_type": "stream",
     "text": [
      "INFO:tensorflow:Restoring parameters from /tmp/data-kamperh/multi_lazydynamic_latent_ae.tmp.ckpt\n",
      "18.065 sec, train loss: 0.197063, val loss: [0.28162844627673278, -0.23754422348773399]\n",
      "Epoch 85:\n",
      "INFO:tensorflow:Restoring parameters from /tmp/data-kamperh/multi_lazydynamic_latent_ae.tmp.ckpt\n",
      "18.648 sec, train loss: 0.198419, val loss: [0.28628460340866846, -0.23892792770829049]\n",
      "Epoch 86:\n",
      "INFO:tensorflow:Restoring parameters from /tmp/data-kamperh/multi_lazydynamic_latent_ae.tmp.ckpt\n",
      "18.104 sec, train loss: 0.19761, val loss: [0.28343210512754446, -0.2362897639882518]\n",
      "Epoch 87:\n",
      "INFO:tensorflow:Restoring parameters from /tmp/data-kamperh/multi_lazydynamic_latent_ae.tmp.ckpt\n",
      "18.718 sec, train loss: 0.203454, val loss: [0.28317443957742849, -0.23667789070986234]\n",
      "Epoch 88:\n",
      "INFO:tensorflow:Restoring parameters from /tmp/data-kamperh/multi_lazydynamic_latent_ae.tmp.ckpt\n",
      "18.150 sec, train loss: 0.201532, val loss: [0.28832775057974747, -0.24100714391938355]\n",
      "Epoch 89:\n",
      "INFO:tensorflow:Restoring parameters from /tmp/data-kamperh/multi_lazydynamic_latent_ae.tmp.ckpt\n",
      "18.732 sec, train loss: 0.198568, val loss: [0.28265910847719661, -0.23730697614659702]\n",
      "Epoch 90:\n",
      "INFO:tensorflow:Restoring parameters from /tmp/data-kamperh/multi_lazydynamic_latent_ae.tmp.ckpt\n",
      "18.926 sec, train loss: 0.1917, val loss: [0.282972680086023, -0.23612290911450493]\n",
      "Epoch 91:\n",
      "INFO:tensorflow:Restoring parameters from /tmp/data-kamperh/multi_lazydynamic_latent_ae.tmp.ckpt\n",
      "18.303 sec, train loss: 0.193772, val loss: [0.28422407509079994, -0.23827649762629771]\n",
      "Epoch 92:\n",
      "INFO:tensorflow:Restoring parameters from /tmp/data-kamperh/multi_lazydynamic_latent_ae.tmp.ckpt\n",
      "18.911 sec, train loss: 0.187712, val loss: [0.28348787847157547, -0.23688542099753901]\n",
      "Epoch 93:\n",
      "INFO:tensorflow:Restoring parameters from /tmp/data-kamperh/multi_lazydynamic_latent_ae.tmp.ckpt\n",
      "18.374 sec, train loss: 0.188187, val loss: [0.28394743622777635, -0.23635398968724039]\n",
      "Epoch 94:\n",
      "INFO:tensorflow:Restoring parameters from /tmp/data-kamperh/multi_lazydynamic_latent_ae.tmp.ckpt\n",
      "18.952 sec, train loss: 0.183359, val loss: [0.28600876062870395, -0.23792618626865927]\n",
      "Epoch 95:\n",
      "INFO:tensorflow:Restoring parameters from /tmp/data-kamperh/multi_lazydynamic_latent_ae.tmp.ckpt\n",
      "19.114 sec, train loss: 0.191039, val loss: [0.28600876062870395, -0.23852480489172279]\n",
      "Epoch 96:\n",
      "INFO:tensorflow:Restoring parameters from /tmp/data-kamperh/multi_lazydynamic_latent_ae.tmp.ckpt\n",
      "18.527 sec, train loss: 0.187821, val loss: [0.28470255878140444, -0.23915794112552916]\n",
      "Epoch 97:\n",
      "INFO:tensorflow:Restoring parameters from /tmp/data-kamperh/multi_lazydynamic_latent_ae.tmp.ckpt\n",
      "19.156 sec, train loss: 0.197265, val loss: [0.28265910847719661, -0.23735990232720694]\n",
      "Epoch 98:\n",
      "INFO:tensorflow:Restoring parameters from /tmp/data-kamperh/multi_lazydynamic_latent_ae.tmp.ckpt\n",
      "18.525 sec, train loss: 0.186901, val loss: [0.28910074723009532, -0.24006027303477478]\n",
      "Epoch 99:\n",
      "INFO:tensorflow:Restoring parameters from /tmp/data-kamperh/multi_lazydynamic_latent_ae.tmp.ckpt\n",
      "19.231 sec, train loss: 0.187275, val loss: [0.28858541612986344, -0.23837267799144424]\n",
      "Writing: /tmp/data-kamperh/multi_lazydynamic_latent_ae.tmp.ckpt\n",
      "Training time: 28.050 min\n",
      "2018-08-21 10:52:36.311020\n"
     ]
    }
   ],
   "source": [
    "np.random.seed(1)\n",
    "train_batch_iterator = SimpleBucketIterator(\n",
    "    train_x, batch_size, n_buckets, True\n",
    "    )\n",
    "val_batch_iterator = SimpleBucketIterator(\n",
    "    val_x, batch_size, n_buckets, False\n",
    "    )\n",
    "\n",
    "# record_dict = training.train_fixed_epochs(\n",
    "#     n_epochs, optimizer, loss, train_batch_iterator,\n",
    "#     [x, x_lengths], [loss, reconstruction_loss], val_batch_iterator, save_best_val_model_fn=model_fn\n",
    "#     )\n",
    "record_dict = training.train_fixed_epochs_external_val(\n",
    "    n_epochs, optimizer, loss, train_batch_iterator,\n",
    "    [x, x_lengths], samediff_val, save_model_fn=intermediate_model_fn, save_best_val_model_fn=model_fn,\n",
    "    n_val_interval=n_val_interval\n",
    "    )"
   ]
  },
  {
   "cell_type": "code",
   "execution_count": 15,
   "metadata": {},
   "outputs": [
    {
     "name": "stdout",
     "output_type": "stream",
     "text": [
      "INFO:tensorflow:Restoring parameters from /tmp/data-kamperh/multi_lazydynamic_latent_ae.ckpt\n"
     ]
    }
   ],
   "source": [
    "# Embed validation\n",
    "val_batch_iterator = SimpleIterator(\n",
    "    val_x, len(val_x), False\n",
    "    )\n",
    "labels = [val_labels[i] for i in val_batch_iterator.indices]\n",
    "saver = tf.train.Saver()\n",
    "with tf.Session() as session:\n",
    "    saver.restore(session, model_fn)\n",
    "    for batch_x_padded, batch_x_lengths in val_batch_iterator:\n",
    "        np_x = batch_x_padded\n",
    "        np_x_lengths = batch_x_lengths\n",
    "        np_z = session.run(\n",
    "            [z], feed_dict={x: np_x, x_lengths: np_x_lengths}\n",
    "            )[0]\n",
    "        np_y = session.run(\n",
    "            [y], feed_dict={x: np_x, x_lengths: np_x_lengths}\n",
    "            )[0]\n",
    "        break  # single batch\n",
    "\n",
    "embed_dict = {}\n",
    "for i, utt_key in enumerate([val_keys[i] for i in val_batch_iterator.indices]):\n",
    "    embed_dict[utt_key] = np_z[i]"
   ]
  },
  {
   "cell_type": "code",
   "execution_count": 16,
   "metadata": {},
   "outputs": [
    {
     "name": "stdout",
     "output_type": "stream",
     "text": [
      "Average precision: 0.2426\n",
      "Precision-recall breakeven: 0.2878\n"
     ]
    }
   ],
   "source": [
    "# Same-different evaluation\n",
    "distances = pdist(np_z, metric=\"cosine\")\n",
    "matches = samediff.generate_matches_array(labels)\n",
    "ap, prb = samediff.average_precision(\n",
    "    distances[matches == True], distances[matches == False]\n",
    "    )\n",
    "\n",
    "print(\"Average precision: {:.4f}\".format(ap))\n",
    "print(\"Precision-recall breakeven: {:.4f}\".format(prb))"
   ]
  },
  {
   "cell_type": "code",
   "execution_count": 17,
   "metadata": {},
   "outputs": [
    {
     "name": "stdout",
     "output_type": "stream",
     "text": [
      "Average precision: 0.2645\n",
      "Precision-recall breakeven: 0.3084\n"
     ]
    }
   ],
   "source": [
    "# Same-different evaluation after normalisation\n",
    "np_z_normalised = (np_z - np_z.mean(axis=0))/np_z.std(axis=0)\n",
    "distances = pdist(np_z_normalised, metric=\"cosine\")\n",
    "matches = samediff.generate_matches_array(labels)\n",
    "ap, prb = samediff.average_precision(\n",
    "    distances[matches == True], distances[matches == False]\n",
    "    )\n",
    "\n",
    "print(\"Average precision: {:.4f}\".format(ap))\n",
    "print(\"Precision-recall breakeven: {:.4f}\".format(prb))"
   ]
  },
  {
   "cell_type": "code",
   "execution_count": 18,
   "metadata": {},
   "outputs": [
    {
     "data": {
      "image/png": "[encoded data removed]",
      "text/plain": [
       "<matplotlib.figure.Figure at 0x7f11e8be1510>"
      ]
     },
     "metadata": {},
     "output_type": "display_data"
    }
   ],
   "source": [
    "# Plot reconstruction\n",
    "plt.figure(figsize=(12, 8))\n",
    "for i in range(5):\n",
    "    plt.subplot(5, 2, 2*i + 1)\n",
    "    if i == 0:\n",
    "        plt.title(\"Input\")\n",
    "    plt.imshow(np_x[i][:np_x_lengths[i]].T)\n",
    "    plt.axis(\"off\")\n",
    "    plt.subplot(5, 2, 2*i + 2)\n",
    "    if i == 0:\n",
    "        plt.title(\"Reconstruction\")\n",
    "    plt.imshow(np_y[i][:np_x_lengths[i]].T)\n",
    "    plt.axis(\"off\")"
   ]
  },
  {
   "cell_type": "code",
   "execution_count": 22,
   "metadata": {},
   "outputs": [
    {
     "data": {
      "image/png": "[encoded data removed]",
      "text/plain": [
       "<matplotlib.figure.Figure at 0x7f116f3060d0>"
      ]
     },
     "metadata": {},
     "output_type": "display_data"
    }
   ],
   "source": [
    "plotting.plot_raw_embeds(\n",
    "    embed_dict, [\"because\", \"yknow\", \"people\", \"something\", \"anything\", \"education\", \"situation\"],\n",
    "    mvn=False, figsize=(12, 8)\n",
    "    )"
   ]
  },
  {
   "cell_type": "code",
   "execution_count": null,
   "metadata": {},
   "outputs": [],
   "source": []
  }
 ],
 "metadata": {
  "kernelspec": {
   "display_name": "Python 2",
   "language": "python",
   "name": "python2"
  },
  "language_info": {
   "codemirror_mode": {
    "name": "ipython",
    "version": 2
   },
   "file_extension": ".py",
   "mimetype": "text/x-python",
   "name": "python",
   "nbconvert_exporter": "python",
   "pygments_lexer": "ipython2",
   "version": "2.7.12"
  }
 },
 "nbformat": 4,
 "nbformat_minor": 2
}
